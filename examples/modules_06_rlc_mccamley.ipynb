{
 "cells": [
  {
   "cell_type": "markdown",
   "metadata": {},
   "source": [
    "# Tutorial: McCamley Initial Contact Classification\n",
    "\n",
    "**Author:** Masoud Abedinifar\n",
    "\n",
    "**Last update:** Fri 21 March 2025\n",
    "\n",
    "## Learning Objectives\n",
    "By the end of this tutorial:\n",
    "\n",
    "- You can load data from [`Mobilized`](https://github.com/neurogeriatricskiel/KielMAT/blob/main/kielmat/datasets/mobilized.py), which is one of the available datasets.\n",
    "- Apply the [`McCamley Initial Contact Classification`](https://github.com/neurogeriatricskiel/KielMAT/blob/gait-spatiotemporal-parameters/kielmat/modules/rlc/_mccamley.py) algorithm to detect initial contact laterality.\n",
    "- Analyze the classified initial contacts for further gait analysis."
   ]
  },
  {
   "cell_type": "markdown",
   "metadata": {},
   "source": [
    "## McCamley Initial Contact Classification\n",
    "\n",
    "This example can be referenced by citing the package.\n",
    "\n",
    "The example demonstrates the application of the McCamley Initial Contact Classification algorithm for distinguishing left and right initial contacts using gyroscope data collected from a lower back IMU sensor. The classification algorithm is implemented using [`kielmat.modules.rlc._mccamley`](https://github.com/neurogeriatricskiel/KielMAT/blob/gait-spatiotemporal-parameters/kielmat/modules/rlc/_mccamley.py). This algorithm is based on the research of McCamley et al. [1].\n",
    "\n",
    "This algorithm aims to classify initial contacts (ICs) using gyroscope data collected from a lower back inertial measurement unit (IMU) sensor. The core of the algorithm lies in the `detect` method, where ICs are classified based on gyroscope signals. The method first preprocesses the gyroscope data by removing biases and applying a Butterworth bandpass filter to improve signal quality. The algorithm then evaluates the sign of the filtered signal at each detected initial contact position to classify the laterality as either `left` or ``right``.\n",
    "\n",
    "The algorithm accounts for variations in signal processing by allowing different gyroscope components to be used for classification:\n",
    "\n",
    "- **Vertical**: Uses only the vertical gyroscope signal.\n",
    "- **Anterior-Posterior**: Uses only the anterior-posterior gyroscope signal.\n",
    "- **Combined**: Uses the difference between vertical and anterior-posterior gyroscope signals (`Combined` = `Vertical` - `Anterior-Posterior`), which enhances classification accuracy by capturing both rotational components simultaneously [2].\n",
    "\n",
    "Originally, the algorithm relied on the vertical axis signal alone [1]. However, Ullrich et al. [2] demonstrated that incorporating both vertical and anterior-posterior signals enhances detection accuracy. Users can select their preferred signal type and obtain the results as `left` or `right` labels accordingly.\n",
    "\n",
    "Once classified, the initial contacts are stored in a pandas DataFrame (`ic_rl_list_` attribute), including their `onset` times and corresponding `rl_label` (left/right classification).\n",
    "\n",
    "### **References**\n",
    "[1] **McCamley et al.** (2012). *An Enhanced Estimate of Initial Contact and Final Contact Instants of Time Using Lower Trunk Inertial Sensor Data.* Gait & Posture, 36(2), 318-320. [https://doi.org/10.1016/j.gaitpost.2012.02.019](https://doi.org/10.1016/j.gaitpost.2012.02.019)\n",
    "\n",
    "[2] **Ullrich et al.** (2022). *Machine Learning-Based Distinction of Left and Right Foot Contacts in Lower Back Inertial Sensor Data Improves Gait Analysis Accuracy.* IEEE Transactions on Neural Systems and Rehabilitation Engineering. [https://doi.org/10.1109/EMBC46164.2021.9630653](https://doi.org/10.1109/EMBC46164.2021.9630653)\n"
   ]
  },
  {
   "cell_type": "markdown",
   "metadata": {},
   "source": [
    "## Import Libraries\n",
    "The necessary libraries such as numpy, matplotlib.pyplot, dataset and MacCamley Initial Contact Classification algortihm are imported. Make sure that you have all the required libraries and modules installed before running this code. You also may need to install the `kielmat` library and its dependencies if you haven't already."
   ]
  },
  {
   "cell_type": "code",
   "execution_count": 1,
   "metadata": {},
   "outputs": [],
   "source": [
    "import numpy as np\n",
    "import pandas as pd\n",
    "import os\n",
    "from kielmat.datasets import mobilised\n",
    "from kielmat.modules.gsd import ParaschivIonescuGaitSequenceDetection\n",
    "from kielmat.modules.icd import ParaschivIonescuInitialContactDetection\n",
    "from kielmat.modules.rlc import MacCamleyInitialContactClassification\n",
    "from pathlib import Path"
   ]
  },
  {
   "cell_type": "markdown",
   "metadata": {},
   "source": [
    "## Data Preparation\n",
    "\n",
    "To implement the MacCamley Initial Contact Classification algortihm, we load example data from publicly available on the Zenodo repository [![DOI](https://zenodo.org/badge/DOI/10.5281/zenodo.7547125.svg)](https://doi.org/10.5281/zenodo.7547125). \n",
    "\n",
    "The participant was monitored for 2.5 hours in a real-world setting while performing various daily activities. Additionally, structured tasks such as outdoor walking, stair ascent/descent, and transitions between rooms were included in the assessment [`3`].\n",
    "\n",
    "#### Refertences\n",
    "\n",
    "[`3`] Mazzà, Claudia, et al. \"Technical validation of real-world monitoring of gait: a multicentric observational study.\" BMJ open 11.12 (2021): e050785. http://dx.doi.org/10.1136/bmjopen-2021-050785"
   ]
  },
  {
   "cell_type": "code",
   "execution_count": 2,
   "metadata": {},
   "outputs": [],
   "source": [
    "# Set the dataset path\n",
    "dataset_path = Path(os.getcwd()) / \"_mobilised\"\n",
    "\n",
    "# Fetch and load the dataset\n",
    "mobilised.fetch_dataset(dataset_path=dataset_path)\n",
    "\n",
    "# In this example, we use \"SU\" as tracking_system and \"LowerBack\" as tracked points.\n",
    "tracking_sys = \"SU\"\n",
    "tracked_points = {tracking_sys: [\"LowerBack\"]}\n",
    "\n",
    "# The 'mobilised.load_recording' function is used to load the data from the specified file_path\n",
    "recording = mobilised.load_recording(\n",
    "    cohort=\"HA\",  # Choose the cohort\n",
    "    file_name=\"data.mat\", \n",
    "    dataset_path=dataset_path)"
   ]
  },
  {
   "cell_type": "markdown",
   "metadata": {},
   "source": [
    "#### Print acceleration data and it corresponding unit"
   ]
  },
  {
   "cell_type": "code",
   "execution_count": 3,
   "metadata": {},
   "outputs": [
    {
     "name": "stdout",
     "output_type": "stream",
     "text": [
      "accel_data (g):         LowerBack_ACCEL_x  LowerBack_ACCEL_y  LowerBack_ACCEL_z\n",
      "0                0.967090          -0.019868          -0.148579\n",
      "1                0.969861          -0.022828          -0.149823\n",
      "2                0.983489          -0.028706          -0.146259\n",
      "3                0.987963          -0.027181          -0.147658\n",
      "4                0.988685          -0.028820          -0.144034\n",
      "...                   ...                ...                ...\n",
      "429149           0.056096          -0.014986           0.979918\n",
      "429150           0.057578          -0.013656           0.984973\n",
      "429151           0.056573          -0.013776           0.983177\n",
      "429152           0.060932          -0.016998           0.976655\n",
      "429153           0.061734          -0.014374           0.983742\n",
      "\n",
      "[429154 rows x 3 columns]\n"
     ]
    }
   ],
   "source": [
    "# Load lower back acceleration data\n",
    "accel_data = recording.data[tracking_sys][\n",
    "    [\"LowerBack_ACCEL_x\", \"LowerBack_ACCEL_y\", \"LowerBack_ACCEL_z\"]\n",
    "]\n",
    "\n",
    "# Get the acceleration data unit from the recording\n",
    "accel_unit = recording.channels[tracking_sys][\n",
    "    recording.channels[tracking_sys][\"name\"].str.contains(\"ACCEL\", case=False)\n",
    "][\"units\"].iloc[0]\n",
    "\n",
    "# Print acceleration data\n",
    "print(f\"accel_data ({accel_unit}): {accel_data}\")"
   ]
  },
  {
   "cell_type": "markdown",
   "metadata": {},
   "source": [
    "#### Print gyro data and it corresponding unit"
   ]
  },
  {
   "cell_type": "code",
   "execution_count": 4,
   "metadata": {},
   "outputs": [
    {
     "name": "stdout",
     "output_type": "stream",
     "text": [
      "gyro_data (deg/s):         LowerBack_GYRO_x  LowerBack_GYRO_y  LowerBack_GYRO_z\n",
      "0               9.980728          3.266193          4.721061\n",
      "1              10.072528          2.991051          4.984530\n",
      "2               9.958097          2.040483          4.950383\n",
      "3               9.797709          1.421440          5.488496\n",
      "4               9.373945          0.859908          5.282844\n",
      "...                  ...               ...               ...\n",
      "429149         -0.286461         -0.710477         -0.641677\n",
      "429150         -0.091684         -0.813586         -0.263551\n",
      "429151         -0.240635         -0.607326         -0.126057\n",
      "429152         -0.091671         -0.412533         -0.263559\n",
      "429153          0.022918         -0.550039         -0.194806\n",
      "\n",
      "[429154 rows x 3 columns]\n"
     ]
    }
   ],
   "source": [
    "# Load lower back gyro data\n",
    "gyro_data = recording.data[tracking_sys][\n",
    "    [\"LowerBack_GYRO_x\", \"LowerBack_GYRO_y\", \"LowerBack_GYRO_z\"]\n",
    "]\n",
    "\n",
    "# Get the gyro data unit from the recording\n",
    "gyro_unit = recording.channels[tracking_sys][\n",
    "    recording.channels[tracking_sys][\"name\"].str.contains(\"GYRO\", case=False)\n",
    "][\"units\"].iloc[0]\n",
    "\n",
    "# Print gyro data\n",
    "print(f\"gyro_data ({gyro_unit}): {gyro_data}\")"
   ]
  },
  {
   "cell_type": "markdown",
   "metadata": {},
   "source": [
    "#### Load and print sampling frequency of the data"
   ]
  },
  {
   "cell_type": "code",
   "execution_count": 5,
   "metadata": {},
   "outputs": [
    {
     "name": "stdout",
     "output_type": "stream",
     "text": [
      "Data was filtered at 100.0 Hz\n"
     ]
    }
   ],
   "source": [
    "# Get the corresponding sampling frequency\n",
    "sampling_frequency = recording.channels[tracking_sys][\n",
    "    recording.channels[tracking_sys][\"name\"] == \"LowerBack_ACCEL_x\"\n",
    "][\"sampling_frequency\"].values[0]\n",
    "print(f'Data was filtered at', sampling_frequency, f'Hz')"
   ]
  },
  {
   "cell_type": "markdown",
   "metadata": {},
   "source": [
    "## Applying McCamley Initial Contact Classification Algorithm\n",
    "\n",
    "Now, we are running the McCamley Initial Contact Classification algorithm from the [`KielMAT.kielmat.modules.rlc._mccamley.MacCamleyInitialContactClassification`](https://github.com/neurogeriatricskiel/KielMAT/blob/gait-spatiotemporal-parameters/kielmat/modules/rlc/_mccamley.py) module to classify the laterality of initial contacts detected in gait sequences. \n",
    "\n",
    "For this purpose, we first apply the **Paraschiv-Ionescu Gait Sequence Detection** algorithm to identify gait sequences using acceleration data. The gait sequences are detected using [`KielMAT.kielmat.modules.gsd._paraschiv.ParaschivIonescuGaitSequenceDetection`](https://github.com/neurogeriatricskiel/KielMAT/tree/main/kielmat/modules/gsd/_paraschiv.py)."
   ]
  },
  {
   "cell_type": "code",
   "execution_count": 6,
   "metadata": {},
   "outputs": [
    {
     "name": "stdout",
     "output_type": "stream",
     "text": [
      "13 gait sequence(s) detected.\n",
      "Gait sequences and thier corresponding information:\n",
      "       onset  duration     event_type tracking_system\n",
      "0   1348.200     7.050  gait sequence       LowerBack\n",
      "1   1372.025     4.600  gait sequence       LowerBack\n",
      "2   1388.750   199.675  gait sequence       LowerBack\n",
      "3   1596.050    24.700  gait sequence       LowerBack\n",
      "4   1694.750   457.475  gait sequence       LowerBack\n",
      "5   2168.000   310.625  gait sequence       LowerBack\n",
      "6   2585.900    43.700  gait sequence       LowerBack\n",
      "7   2633.625   315.600  gait sequence       LowerBack\n",
      "8   2956.600     9.475  gait sequence       LowerBack\n",
      "9   3029.725    16.450  gait sequence       LowerBack\n",
      "10  3087.550     9.825  gait sequence       LowerBack\n",
      "11  3195.125    12.825  gait sequence       LowerBack\n",
      "12  3464.250    14.375  gait sequence       LowerBack\n"
     ]
    }
   ],
   "source": [
    "# Create an instance of the ParaschivIonescuGaitSequenceDetection class\n",
    "gsd = ParaschivIonescuGaitSequenceDetection()\n",
    "\n",
    "# Call the gait sequence detection using gsd.detect to detect gait sequences\n",
    "gsd = gsd.detect(\n",
    "    accel_data=accel_data, \n",
    "    sampling_freq_Hz=sampling_frequency, \n",
    "    tracking_system=\"LowerBack\", \n",
    "    plot_results=False\n",
    ")\n",
    "\n",
    "# Add events to the recording as a dictionary including tracking system and events\n",
    "recording.add_events(tracking_system=\"LowerBack\", new_events=gsd.gait_sequences_)\n",
    "\n",
    "# Filter only gait sequence events\n",
    "gait_sequence_events = recording.events[\"LowerBack\"][recording.events[\"LowerBack\"][\"event_type\"] == \"gait sequence\"]\n",
    "\n",
    "# Print the filtered gait sequences\n",
    "print(f'Gait sequences and thier corresponding information:')\n",
    "print(gait_sequence_events)"
   ]
  },
  {
   "cell_type": "markdown",
   "metadata": {},
   "source": [
    "Next, we apply the **Paraschiv-Ionescu Initial Contact Detection** algorithm to detect initial contacts within these gait sequences using [`KielMAT.kielmat.modules.icd._paraschiv.ParaschivIonescuInitialContactDetection`](https://github.com/neurogeriatricskiel/KielMAT/tree/main/kielmat/modules/icd/_paraschiv.py). "
   ]
  },
  {
   "cell_type": "code",
   "execution_count": 7,
   "metadata": {},
   "outputs": [
    {
     "name": "stdout",
     "output_type": "stream",
     "text": [
      "Initial contacts information:\n",
      "         onset  duration       event_type tracking_system\n",
      "13    1348.700       0.0  initial contact       LowerBack\n",
      "14    1349.350       0.0  initial contact       LowerBack\n",
      "15    1349.975       0.0  initial contact       LowerBack\n",
      "16    1350.525       0.0  initial contact       LowerBack\n",
      "17    1351.050       0.0  initial contact       LowerBack\n",
      "...        ...       ...              ...             ...\n",
      "2673  3475.750       0.0  initial contact       LowerBack\n",
      "2674  3476.300       0.0  initial contact       LowerBack\n",
      "2675  3476.825       0.0  initial contact       LowerBack\n",
      "2676  3477.375       0.0  initial contact       LowerBack\n",
      "2677  3477.925       0.0  initial contact       LowerBack\n",
      "\n",
      "[2665 rows x 4 columns]\n"
     ]
    }
   ],
   "source": [
    "# Now, use Paraschiv-Ionescu initial contact detection algortihm to find initial contacts within detected gait sequences.\n",
    "icd = ParaschivIonescuInitialContactDetection()\n",
    "\n",
    "# Call the initial contact detection using icd.detect\n",
    "icd = icd.detect(\n",
    "    accel_data=accel_data,\n",
    "    gait_sequences=gsd.gait_sequences_,\n",
    "    sampling_freq_Hz=sampling_frequency,\n",
    "    tracking_system=\"LowerBack\", \n",
    "    v_acc_col_name=\"LowerBack_ACCEL_x\"\n",
    ")\n",
    "\n",
    "# Add events to the recording as a dictionary including tracking system and events\n",
    "recording.add_events(tracking_system=\"LowerBack\", new_events=icd.initial_contacts_)\n",
    "\n",
    "# Filter only gait sequence events\n",
    "initaal_contact_events = recording.events[\"LowerBack\"][recording.events[\"LowerBack\"][\"event_type\"] == \"initial contact\"]\n",
    "\n",
    "# Print the filtered gait sequences\n",
    "print(f\"Initial contacts information:\")\n",
    "print(initaal_contact_events)"
   ]
  },
  {
   "cell_type": "markdown",
   "metadata": {},
   "source": [
    "Once the initial contacts are detected, the McCamley Initial Contact Classification algorithm is used to classify them as left or right based on gyroscope signals using the McCamley method.\n",
    "\n",
    "### Inputs for McCamley Initial Contact Classification Algorithm:\n",
    "\n",
    "- **`gyro_data`** (`pd.DataFrame`):  \n",
    "  A DataFrame containing gyroscope signals (N, 3), typically including x, y, and z components.\n",
    "\n",
    "- **`sampling_freq_Hz`** (`float`):  \n",
    "  Sampling frequency of the gyroscope signal in Hertz (Hz).\n",
    "\n",
    "- **`v_gyr_col_name`** (`str`):  \n",
    "  Name of the column in `gyro_data` that corresponds to the **vertical gyroscope signal**.\n",
    "\n",
    "- **`ap_gyr_col_name`** (`str`):  \n",
    "  Name of the column in `gyro_data` that corresponds to the **anterior-posterior gyroscope signal**.\n",
    "\n",
    "- **`ic_timestamps`** (`pd.DataFrame`):  \n",
    "  A DataFrame containing detected initial contact (IC) timestamps. Must include an `onset` column with timestamps in seconds.\n",
    "\n",
    "- **`signal_type`** (`str`, optional, default = `\"vertical\"`):  \n",
    "  Determines which gyroscope signal to use for left/right classification:\n",
    "  \n",
    "  - **`\"vertical\"`**: Uses the **vertical** gyroscope signal.\n",
    "  - **`\"anterior_posterior\"`**: Uses the **anterior-posterior** gyroscope signal.\n",
    "  - **`\"combined\"`**: Uses a difference-based signal: `vertical - anterior_posterior`.\n",
    "\n",
    "- **`recording`** (`KielMATRecording`, optional):  \n",
    "  If provided, the output labels (`rl_label`) will be added directly to the `recording.events` table.\n",
    "\n",
    "- **`tracking_system`** (`str`, required if `recording` is given):  \n",
    "  The tracking system key in the recording (e.g., `\"LowerBack\"`) used to locate and update initial contact events.\n"
   ]
  },
  {
   "cell_type": "code",
   "execution_count": 9,
   "metadata": {},
   "outputs": [
    {
     "name": "stdout",
     "output_type": "stream",
     "text": [
      "Initial contacts and their corresponding labels:\n",
      "         onset  duration       event_type rl_label tracking_system\n",
      "13    1348.700       0.0  initial contact     left       LowerBack\n",
      "14    1349.350       0.0  initial contact    right       LowerBack\n",
      "15    1349.975       0.0  initial contact     left       LowerBack\n",
      "16    1350.525       0.0  initial contact    right       LowerBack\n",
      "17    1351.050       0.0  initial contact     left       LowerBack\n",
      "...        ...       ...              ...      ...             ...\n",
      "2673  3475.750       0.0  initial contact    right       LowerBack\n",
      "2674  3476.300       0.0  initial contact     left       LowerBack\n",
      "2675  3476.825       0.0  initial contact    right       LowerBack\n",
      "2676  3477.375       0.0  initial contact     left       LowerBack\n",
      "2677  3477.925       0.0  initial contact     left       LowerBack\n",
      "\n",
      "[2665 rows x 5 columns]\n"
     ]
    }
   ],
   "source": [
    "# Initialize McCamley classifier\n",
    "mccamley_ic_classifier = MacCamleyInitialContactClassification()\n",
    "\n",
    "# Apply classification\n",
    "mccamley_ic_classifier.detect(\n",
    "    gyro_data=gyro_data,\n",
    "    sampling_freq_Hz=sampling_frequency,\n",
    "    v_gyr_col_name=\"LowerBack_GYRO_x\",\n",
    "    ap_gyr_col_name=\"LowerBack_GYRO_z\",\n",
    "    ic_timestamps=initaal_contact_events[[\"onset\"]],\n",
    "    signal_type=\"vertical\",\n",
    "    recording=recording,\n",
    "    tracking_system=\"LowerBack\"\n",
    ")\n",
    "\n",
    "# Print results\n",
    "print(f\"Initial contacts and their corresponding labels:\")\n",
    "print(mccamley_ic_classifier.mccamley_df)"
   ]
  },
  {
   "cell_type": "markdown",
   "metadata": {},
   "source": [
    "### **Interpretation of Classified Initial Contacts**\n",
    "\n",
    "Each row in the output represents a classified **initial contact** (IC) event, with the following columns:\n",
    "\n",
    "- **`onset`** (`float`):  \n",
    "  The timestamp (in seconds) when the initial contact occurred.\n",
    "\n",
    "- **`duration`** (`float`):  \n",
    "  Duration of the event. For initial contacts, this is typically set to `0.0`.\n",
    "\n",
    "- **`event_type`** (`str`):  \n",
    "  The type of event as `initial contact`.\n",
    "\n",
    "- **`rl_label`** (`str`):  \n",
    "  The classification of the initial contact as either `left` or `right`, based on the sign of the gyroscope signal at that timestamp.\n",
    "\n",
    "- **`tracking_system`** (`str`):  \n",
    "  The name of the tracking system (e.g., `\"LowerBack\"`) that was used to record the IMU data."
   ]
  }
 ],
 "metadata": {
  "kernelspec": {
   "display_name": "kielmat-xtiGY1vY-py3.11",
   "language": "python",
   "name": "python3"
  },
  "language_info": {
   "codemirror_mode": {
    "name": "ipython",
    "version": 3
   },
   "file_extension": ".py",
   "mimetype": "text/x-python",
   "name": "python",
   "nbconvert_exporter": "python",
   "pygments_lexer": "ipython3",
   "version": "3.11.2"
  }
 },
 "nbformat": 4,
 "nbformat_minor": 2
}
